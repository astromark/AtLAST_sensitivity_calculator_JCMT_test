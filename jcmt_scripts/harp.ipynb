{
 "cells": [
  {
   "cell_type": "markdown",
   "metadata": {},
   "source": [
    "Script to test out the calculator with HARP efficiencies.\n",
    "\n",
    "HARP parameters:"
   ]
  },
  {
   "cell_type": "code",
   "execution_count": null,
   "metadata": {
    "vscode": {
     "languageId": "plaintext"
    }
   },
   "outputs": [],
   "source": [
    "eta_mb = 0.64 # main beam efficiency\n",
    "eta_fss = 0.75 # forward spillover and scattering efficiency\n",
    "eta_a = 0.52 # aperture efficiency\n",
    "T_rx345 = 105 # K - approximate receiver temperature at 345 GHz"
   ]
  },
  {
   "cell_type": "markdown",
   "metadata": {},
   "source": [
    "Intialise calculator"
   ]
  },
  {
   "cell_type": "code",
   "execution_count": null,
   "metadata": {
    "vscode": {
     "languageId": "plaintext"
    }
   },
   "outputs": [],
   "source": [
    "from atlast_sc.calculator import Calculator\n",
    "import astropy.units as u\n",
    "calculator = Calculator()"
   ]
  },
  {
   "cell_type": "markdown",
   "metadata": {},
   "source": [
    "User input"
   ]
  },
  {
   "cell_type": "code",
   "execution_count": null,
   "metadata": {
    "vscode": {
     "languageId": "plaintext"
    }
   },
   "outputs": [],
   "source": [
    "calculator.obs_freq = 345.8*u.GHz\n",
    "calculator.bandwidth = 1000*u.MHz"
   ]
  }
 ],
 "metadata": {
  "language_info": {
   "name": "python"
  }
 },
 "nbformat": 4,
 "nbformat_minor": 2
}
